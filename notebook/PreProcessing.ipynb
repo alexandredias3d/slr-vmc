{
 "cells": [
  {
   "cell_type": "markdown",
   "metadata": {
    "colab_type": "text",
    "id": "fpBX10zKgnxh"
   },
   "source": [
    "# Pre-Processing\n",
    "\n",
    "This Jupyter Notebook provides the source used to pre-process the results obtained during the search in each database.  \n",
    "The following steps are performed:\n",
    "\n",
    "1. Removal of self duplicates\n",
    "2. Removal of pairwise duplicates\n",
    "3. Application of IC1 (filter by year)\n",
    "4. Export data"
   ]
  },
  {
   "cell_type": "markdown",
   "metadata": {},
   "source": [
    "## 1. Importing the libraries"
   ]
  },
  {
   "cell_type": "code",
   "execution_count": 1,
   "metadata": {
    "colab": {},
    "colab_type": "code",
    "id": "crREv7HJgnxl"
   },
   "outputs": [],
   "source": [
    "import pandas as pd\n",
    "from pathlib import Path"
   ]
  },
  {
   "cell_type": "markdown",
   "metadata": {},
   "source": [
    "## 2. Loading the dataset\n",
    "The CSV from each database was download from their respective websites after performing the search using the search string defined in the protocol.  \n",
    "Each CSV is loaded into a DataFrame."
   ]
  },
  {
   "cell_type": "code",
   "execution_count": 2,
   "metadata": {},
   "outputs": [],
   "source": [
    "ROOT_DIR = Path('.').resolve().parent\n",
    "DATA_DIR = ROOT_DIR / 'data/primary_selection'\n",
    "RAW_DIR = DATA_DIR / 'raw'\n",
    "\n",
    "acm = pd.read_csv(RAW_DIR / 'ACM.csv')\n",
    "ieee = pd.read_csv(RAW_DIR / 'IEEE_mod.csv')\n",
    "scopus = pd.read_csv(RAW_DIR / 'Scopus.csv')"
   ]
  },
  {
   "cell_type": "markdown",
   "metadata": {},
   "source": [
    "### 2.1 Preprocessing the DataFrames\n",
    "\n",
    "Select only the relevant columns from the DataFrames, rename their columns and apply lowercase to the title of papers."
   ]
  },
  {
   "cell_type": "code",
   "execution_count": 3,
   "metadata": {},
   "outputs": [],
   "source": [
    "def preprocess(df, columns):\n",
    "    new_columns = ['author', 'title', 'year', 'source']\n",
    "    \n",
    "    df = df[columns].copy()\n",
    "    df.columns = new_columns\n",
    "    \n",
    "    df['title'] = df['title'].str.lower()\n",
    "    \n",
    "    return df\n",
    "\n",
    "acm = preprocess(acm, ['author', 'title', 'year', 'booktitle'])\n",
    "ieee = preprocess(ieee, ['Authors', 'Document Title', 'Publication_Year', 'Publication Title'])\n",
    "scopus = preprocess(scopus, ['Authors', 'Title', 'Year', 'Source title'])"
   ]
  },
  {
   "cell_type": "markdown",
   "metadata": {
    "colab_type": "text",
    "id": "d1hcsBmRgnyK"
   },
   "source": [
    "## 3. Duplicate papers\n",
    "In this step, the DataFrames are sanitized through the removal of duplicates within itself and between different databases.   "
   ]
  },
  {
   "cell_type": "markdown",
   "metadata": {
    "colab_type": "text",
    "id": "GB5liUtognyM"
   },
   "source": [
    "### 3.1 Removing self duplicates\n",
    "Uses an auxiliar function that receives the original DataFrame, and the database name as parameters.  \n",
    "The DataFrame's **duplicated** function produces a mask to remove duplicates based on the authors and publication title.  \n",
    "The function returns the sanitized version of the DataFrame, which does not contain self duplicates and contains only the relevant columns."
   ]
  },
  {
   "cell_type": "code",
   "execution_count": 4,
   "metadata": {
    "colab": {},
    "colab_type": "code",
    "id": "0qYAj52JgnyN",
    "outputId": "a2178fa3-73cc-43b4-a777-65daa3c410f0",
    "scrolled": true
   },
   "outputs": [
    {
     "name": "stdout",
     "output_type": "stream",
     "text": [
      "ACM (self) duplicates: 5\n",
      "IEEE (self) duplicates: 1\n",
      "Scopus (self) duplicates: 3\n"
     ]
    }
   ],
   "source": [
    "def remove_self_duplicates(df, name):\n",
    "    \n",
    "    mask = df.duplicated(subset=df.columns[:2])\n",
    "    dups = df[mask]\n",
    "    sanitized = df[~mask]\n",
    "    \n",
    "    print(f'{name} (self) duplicates: {dups.shape[0]}')\n",
    "    \n",
    "    return sanitized\n",
    "\n",
    "acm = remove_self_duplicates(acm, 'ACM')\n",
    "ieee = remove_self_duplicates(ieee, 'IEEE')\n",
    "scopus = remove_self_duplicates(scopus, 'Scopus')"
   ]
  },
  {
   "cell_type": "markdown",
   "metadata": {
    "colab_type": "text",
    "id": "T2w6S7Zagnyx"
   },
   "source": [
    "### 3.2 Removing pairwise duplicates\n",
    "Uses an auxiliar function that receives two DataFrames, column name, and the name of the database pair.  \n",
    "The DataFrame's **isin** function produces a mask of the papers present in both DataFrames.  \n",
    "The function returns the sanitized version of the first DataFrame, which does not contain duplicates found in the second.  \n",
    "It contains only the relevant columns that were previously selected by the self duplicate removal function."
   ]
  },
  {
   "cell_type": "code",
   "execution_count": 5,
   "metadata": {
    "colab": {},
    "colab_type": "code",
    "id": "KXysLB_3gnyy",
    "outputId": "73566b0e-c2cf-44b1-dd88-22e885039cc8"
   },
   "outputs": [
    {
     "name": "stdout",
     "output_type": "stream",
     "text": [
      "IEEE on ACM (pairwise) duplicates: 17\n",
      "Scopus on ACM (pairwise) duplicates: 58\n",
      "Scopus on IEEE (pairwise) duplicates: 306\n"
     ]
    }
   ],
   "source": [
    "def remove_pairwise_duplicates(df1, df2, column, pair_name): \n",
    "    mask = df1[column].isin(df2[column].values)\n",
    "    dups = df1[mask]   \n",
    "    sanitized = df1[~mask]\n",
    "        \n",
    "    print(f'{pair_name} (pairwise) duplicates: {dups.shape[0]}')\n",
    "    \n",
    "    return sanitized\n",
    "\n",
    "ieee = remove_pairwise_duplicates(ieee, acm, 'title', 'IEEE on ACM')\n",
    "scopus = remove_pairwise_duplicates(scopus, acm, 'title', 'Scopus on ACM')\n",
    "scopus = remove_pairwise_duplicates(scopus, ieee, 'title', 'Scopus on IEEE')"
   ]
  },
  {
   "cell_type": "markdown",
   "metadata": {
    "colab_type": "text",
    "id": "k3MvayBKgny3"
   },
   "source": [
    "## 4. Applying IC1 (year filter)\n",
    "In this step, a mask is produced with papers published after 2018."
   ]
  },
  {
   "cell_type": "code",
   "execution_count": 6,
   "metadata": {
    "colab": {},
    "colab_type": "code",
    "id": "fRNnrmYMgny6",
    "outputId": "9ab9a01e-b390-4a51-e7e4-de979e413b53"
   },
   "outputs": [
    {
     "name": "stdout",
     "output_type": "stream",
     "text": [
      "ACM papers selected by year (IC1): 9\n",
      "IEEE papers selected by year (IC1): 57\n",
      "Scopus papers selected by year (IC1): 122\n"
     ]
    }
   ],
   "source": [
    "def filter_by_year(df, column, name):\n",
    "    mask = df[column] >= 2018\n",
    "    filtered = df[mask]\n",
    "    \n",
    "    print(f'{name} papers selected by year (IC1): {filtered.shape[0]}')\n",
    "\n",
    "    return filtered\n",
    "\n",
    "acm = filter_by_year(acm, 'year', 'ACM')\n",
    "ieee = filter_by_year(ieee, 'year', 'IEEE')\n",
    "scopus = filter_by_year(scopus, 'year', 'Scopus')"
   ]
  },
  {
   "cell_type": "markdown",
   "metadata": {
    "colab": {},
    "colab_type": "code",
    "id": "LIadtLaygnzn"
   },
   "source": [
    "## 5. Saving the DataFrames as CSV files\n",
    "Save each one of the pre processed DataFrames to a CSV file."
   ]
  },
  {
   "cell_type": "code",
   "execution_count": 7,
   "metadata": {
    "colab": {},
    "colab_type": "code",
    "id": "N_vYGaJxgnzt"
   },
   "outputs": [],
   "source": [
    "OUTPUT_DIR = DATA_DIR / 'automatic'\n",
    "OUTPUT_DIR.mkdir(exist_ok=True)\n",
    "\n",
    "acm.to_csv(OUTPUT_DIR / 'ACM.csv', index=False)\n",
    "ieee.to_csv(OUTPUT_DIR / 'IEEE.csv', index=False)\n",
    "scopus.to_csv(OUTPUT_DIR / 'Scopus.csv', index=False)"
   ]
  }
 ],
 "metadata": {
  "colab": {
   "collapsed_sections": [],
   "name": "PreProcessing.ipynb",
   "provenance": [],
   "version": "0.3.2"
  },
  "kernelspec": {
   "display_name": "Python 3",
   "language": "python",
   "name": "python3"
  },
  "language_info": {
   "codemirror_mode": {
    "name": "ipython",
    "version": 3
   },
   "file_extension": ".py",
   "mimetype": "text/x-python",
   "name": "python",
   "nbconvert_exporter": "python",
   "pygments_lexer": "ipython3",
   "version": "3.8.1"
  }
 },
 "nbformat": 4,
 "nbformat_minor": 4
}
